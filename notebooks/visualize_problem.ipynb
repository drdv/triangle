{
 "cells": [
  {
   "cell_type": "code",
   "execution_count": null,
   "id": "0e745b2b-8667-4d5f-a816-301f972c151b",
   "metadata": {},
   "outputs": [],
   "source": [
    "import sys\n",
    "sys.path.append('..')\n",
    "from triangle.problem import TriangleProblem"
   ]
  },
  {
   "cell_type": "markdown",
   "id": "40e93f67-d5bc-4c24-b4c1-7189e9fcbb6c",
   "metadata": {},
   "source": [
    "### Generate figure for the latex note"
   ]
  },
  {
   "cell_type": "code",
   "execution_count": null,
   "id": "7e028268-bb4e-4496-96b4-6d3389e22141",
   "metadata": {},
   "outputs": [],
   "source": [
    "p = TriangleProblem()\n",
    "p.plot(verbose=True, savefig=\"../docs/note/figs/problem_statement.png\")\n",
    "p.solve()"
   ]
  },
  {
   "cell_type": "markdown",
   "id": "ab87fb55-e793-49bc-a880-08bd346f2686",
   "metadata": {},
   "source": [
    "### Play with some other values\n",
    "+ there is no protection against unreasonable inputs."
   ]
  },
  {
   "cell_type": "code",
   "execution_count": null,
   "id": "1a0ee789-04cb-40cc-901e-35b63b7143f3",
   "metadata": {},
   "outputs": [],
   "source": [
    "p = TriangleProblem(a1=10, a2=30, b1=10, b2=20)\n",
    "p.plot()\n",
    "p.solve()"
   ]
  }
 ],
 "metadata": {
  "kernelspec": {
   "display_name": "Python 3 (ipykernel)",
   "language": "python",
   "name": "python3"
  },
  "language_info": {
   "codemirror_mode": {
    "name": "ipython",
    "version": 3
   },
   "file_extension": ".py",
   "mimetype": "text/x-python",
   "name": "python",
   "nbconvert_exporter": "python",
   "pygments_lexer": "ipython3",
   "version": "3.10.2"
  }
 },
 "nbformat": 4,
 "nbformat_minor": 5
}
