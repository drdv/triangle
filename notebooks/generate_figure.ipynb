{
 "cells": [
  {
   "cell_type": "markdown",
   "id": "9f4a0735-4989-49f3-9499-f7f8f308ba4a",
   "metadata": {},
   "source": [
    "# Generate figure for the latex note"
   ]
  },
  {
   "cell_type": "code",
   "execution_count": null,
   "id": "0e745b2b-8667-4d5f-a816-301f972c151b",
   "metadata": {},
   "outputs": [],
   "source": [
    "import sys\n",
    "sys.path.append('..')\n",
    "from triangle.problem import TriangleProblem"
   ]
  },
  {
   "cell_type": "code",
   "execution_count": null,
   "id": "7e028268-bb4e-4496-96b4-6d3389e22141",
   "metadata": {},
   "outputs": [],
   "source": [
    "p = TriangleProblem()\n",
    "p.plot(annotate=True, savefig=\"../docs/note/figs/problem_statement.png\")\n",
    "p.solve()"
   ]
  }
 ],
 "metadata": {
  "kernelspec": {
   "display_name": "Python 3 (ipykernel)",
   "language": "python",
   "name": "python3"
  },
  "language_info": {
   "codemirror_mode": {
    "name": "ipython",
    "version": 3
   },
   "file_extension": ".py",
   "mimetype": "text/x-python",
   "name": "python",
   "nbconvert_exporter": "python",
   "pygments_lexer": "ipython3",
   "version": "3.10.2"
  }
 },
 "nbformat": 4,
 "nbformat_minor": 5
}
