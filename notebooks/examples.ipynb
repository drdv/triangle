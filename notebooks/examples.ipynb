{
 "cells": [
  {
   "cell_type": "code",
   "execution_count": null,
   "id": "0e745b2b-8667-4d5f-a816-301f972c151b",
   "metadata": {},
   "outputs": [],
   "source": [
    "%load_ext autoreload\n",
    "%autoreload 2\n",
    "\n",
    "import sys\n",
    "import matplotlib.pyplot as plt\n",
    "\n",
    "sys.path.append('..')\n",
    "from triangle.problem import TriangleProblem"
   ]
  },
  {
   "cell_type": "code",
   "execution_count": null,
   "id": "4449f091-0ec5-4874-85ff-169048361638",
   "metadata": {},
   "outputs": [],
   "source": [
    "fig, axs = plt.subplots(1,3, figsize=(18, 6))\n",
    "axs = axs.flatten()\n",
    "\n",
    "TriangleProblem(a1=10, a2=30, b1=20, b2=20).plot(axs[0], solve=True)\n",
    "TriangleProblem(a1=20, a2=20, b1=20, b2=20).plot(axs[1], solve=True)\n",
    "TriangleProblem(a1=10, a2=10, b1=90, b2=0).plot(axs[2], solve=True)"
   ]
  }
 ],
 "metadata": {
  "kernelspec": {
   "display_name": "Python 3 (ipykernel)",
   "language": "python",
   "name": "python3"
  },
  "language_info": {
   "codemirror_mode": {
    "name": "ipython",
    "version": 3
   },
   "file_extension": ".py",
   "mimetype": "text/x-python",
   "name": "python",
   "nbconvert_exporter": "python",
   "pygments_lexer": "ipython3",
   "version": "3.10.2"
  }
 },
 "nbformat": 4,
 "nbformat_minor": 5
}
